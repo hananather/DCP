{
  "nbformat": 4,
  "nbformat_minor": 0,
  "metadata": {
    "colab": {
      "provenance": [],
      "authorship_tag": "ABX9TyOrq085N1I6iCMudYNLavIq",
      "include_colab_link": true
    },
    "kernelspec": {
      "name": "python3",
      "display_name": "Python 3"
    },
    "language_info": {
      "name": "python"
    }
  },
  "cells": [
    {
      "cell_type": "markdown",
      "metadata": {
        "id": "view-in-github",
        "colab_type": "text"
      },
      "source": [
        "<a href=\"https://colab.research.google.com/github/hananather/DCP/blob/main/Python_Types.ipynb\" target=\"_parent\"><img src=\"https://colab.research.google.com/assets/colab-badge.svg\" alt=\"Open In Colab\"/></a>"
      ]
    },
    {
      "cell_type": "code",
      "execution_count": 6,
      "metadata": {
        "id": "hF7uQam6vnIx"
      },
      "outputs": [],
      "source": [
        "# game.py\n",
        "\n",
        "import random\n",
        "\n",
        "SUITS = \"♠ ♡ ♢ ♣\".split()\n",
        "RANKS = \"2 3 4 5 6 7 8 9 10 J Q K A\".split()\n",
        "\n",
        "def create_deck(shuffle=False):\n",
        "  \"\"\" Create a new deck of 52 cards \"\"\"\n",
        "  deck = [(s,r) for r in RANKS for s in SUITS]\n",
        "  if suffle:\n",
        "    random.shuffle(deck)\n",
        "  return"
      ]
    },
    {
      "cell_type": "code",
      "source": [],
      "metadata": {
        "id": "s7VXbgsHwe23"
      },
      "execution_count": null,
      "outputs": []
    }
  ]
}
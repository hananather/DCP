{
  "nbformat": 4,
  "nbformat_minor": 0,
  "metadata": {
    "colab": {
      "provenance": [],
      "authorship_tag": "ABX9TyNbOe8PnOo4kr0q3bk0/k3+",
      "include_colab_link": true
    },
    "kernelspec": {
      "name": "python3",
      "display_name": "Python 3"
    },
    "language_info": {
      "name": "python"
    }
  },
  "cells": [
    {
      "cell_type": "markdown",
      "metadata": {
        "id": "view-in-github",
        "colab_type": "text"
      },
      "source": [
        "<a href=\"https://colab.research.google.com/github/hananather/DCP/blob/main/SARSA.ipynb\" target=\"_parent\"><img src=\"https://colab.research.google.com/assets/colab-badge.svg\" alt=\"Open In Colab\"/></a>"
      ]
    },
    {
      "cell_type": "markdown",
      "source": [
        "SARSA is a value-based algorithm. Value-based algorithms evaluate state-action pairs $(s,a)$ by learning one of the functions - $V^{\\pi}(s)$ or $Q^{\\pi}(s,a)$, and use these value functions to select actions. \n",
        "The SARSA algorithm learns the $Q^{\\pi}(s,a)$. The SARSA algorithm consists of two core ideas. First, a technique for learning $Q-$functions known as Temporal Difference (TD) learning, an alternative to Monte Carlo sampling for estimating state or state-action values from the experiences an agent gathers in an environment. \n",
        "Second, a method for generating actions using the $Q-$functions."
      ],
      "metadata": {
        "id": "bADwYShn2u4n"
      }
    }
  ]
}
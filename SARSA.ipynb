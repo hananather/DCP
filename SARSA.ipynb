{
  "nbformat": 4,
  "nbformat_minor": 0,
  "metadata": {
    "colab": {
      "provenance": [],
      "authorship_tag": "ABX9TyPOUSDI6M+g+KQMaMt2trL0",
      "include_colab_link": true
    },
    "kernelspec": {
      "name": "python3",
      "display_name": "Python 3"
    },
    "language_info": {
      "name": "python"
    }
  },
  "cells": [
    {
      "cell_type": "markdown",
      "metadata": {
        "id": "view-in-github",
        "colab_type": "text"
      },
      "source": [
        "<a href=\"https://colab.research.google.com/github/hananather/DCP/blob/main/SARSA.ipynb\" target=\"_parent\"><img src=\"https://colab.research.google.com/assets/colab-badge.svg\" alt=\"Open In Colab\"/></a>"
      ]
    },
    {
      "cell_type": "markdown",
      "source": [
        "SARSA is a value-based algorithm. Value-based algorithms evaluate state-action pairs $(s,a)$ by learning one of the functions - $V^{\\pi}(s)$ or $Q^{\\pi}(s,a)$, and use these value functions to select actions. \n",
        "The SARSA algorithm learns the $Q^{\\pi}(s,a)$. The SARSA algorithm consists of two core ideas. First, a technique for learning $Q-$functions known as Temporal Difference (TD) learning, an alternative to Monte Carlo sampling for estimating state or state-action values from the experiences an agent gathers in an environment. \n",
        "Second, a method for generating actions using the $Q-$functions."
      ],
      "metadata": {
        "id": "bADwYShn2u4n"
      }
    },
    {
      "cell_type": "markdown",
      "source": [
        "## The $Q$ and $V$ Functions\n",
        "The $Q$-function measures the value of state-action pairs $(s,a)$ under a particular policy $\\pi$. The value of $(s,a)$ is the expected cumulative discounted reward from taking action $a$ in state $s$, and then continuing to act under policy $\\pi$.  \n",
        "\n",
        "- $Q^{\\pi}(s,a)$ provides a quantitative value for each move; this value can be used to decide on the best move (action) to make in a particular state. \n",
        "\n",
        "- $Q^{\\pi}(s,a)$ has the benefit of giving agents a direct method for acting. Agents can calculate the $Q^{\\pi}(s,a)$ for each action available in a particular state, and select the action with the highest value. "
      ],
      "metadata": {
        "id": "ZSnez1us5qsK"
      }
    },
    {
      "cell_type": "markdown",
      "source": [
        "### Temporal Difference Learning\n",
        "How do we learn a Q-function using TD-learning? The main idea is to use neural network which produces Q-value estimates given $(s,a)$ pairs as inputs. This is known as value network. "
      ],
      "metadata": {
        "id": "kuIpXa6ALSdR"
      }
    }
  ]
}
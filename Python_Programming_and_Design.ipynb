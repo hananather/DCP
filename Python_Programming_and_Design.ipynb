{
  "nbformat": 4,
  "nbformat_minor": 0,
  "metadata": {
    "colab": {
      "provenance": [],
      "authorship_tag": "ABX9TyPoA3nCvUdSqgTcdAKoc1xB",
      "include_colab_link": true
    },
    "kernelspec": {
      "name": "python3",
      "display_name": "Python 3"
    },
    "language_info": {
      "name": "python"
    }
  },
  "cells": [
    {
      "cell_type": "markdown",
      "metadata": {
        "id": "view-in-github",
        "colab_type": "text"
      },
      "source": [
        "<a href=\"https://colab.research.google.com/github/hananather/DCP/blob/main/Python_Programming_and_Design.ipynb\" target=\"_parent\"><img src=\"https://colab.research.google.com/assets/colab-badge.svg\" alt=\"Open In Colab\"/></a>"
      ]
    },
    {
      "cell_type": "markdown",
      "source": [
        "# Classes and Interfances\n",
        "A **class** is a blueprint for creating objects in Python. An **object** is a collection of data (variables) and methods (functions) that act on that data. \n",
        "\n",
        "In Python, **interfaces** are not explicitly built into the language but are implemented using a concept called *duck typing*, which means an object's suitability is determined by the pressence of certain methods and properties, rather than the type of the object itself.\n",
        "\n",
        "Python has a module named `abc` which provides the infrastructure for defining abstract base classes (ABCs). ABCs are a form of interface checking more strict than conventional duck typing. \n",
        "\n",
        "## Distribution Interface\n",
        "\n",
        "\n",
        "\n",
        "Ho can we reresent a distribution in code?\n",
        "What can we do with this distribution?\n",
        "How can we write code to get the expected value of a distribution?\n",
        "\n",
        "\n",
        "Sampling is the least common denominator. We can sample from distributions where we don't know enough to do anything else, and we can sample distributions where we know the exact form of the distribution."
      ],
      "metadata": {
        "id": "qSUeRcwLbtov"
      }
    },
    {
      "cell_type": "code",
      "source": [
        "from abc import ABC, abstractmethod\n",
        "import random\n",
        "\n",
        "class Distribution(ABC):\n",
        "  @abstractmethod\n",
        "  def sample(self):\n",
        "    pass"
      ],
      "metadata": {
        "id": "jnHd7s8ebyKF"
      },
      "execution_count": null,
      "outputs": []
    },
    {
      "cell_type": "markdown",
      "source": [
        "We have made distribution an abstract base class (ABC).\n",
        "This class  defines an **interface**: a definition of what we require for something to quantify as distribuiton. Any kind of distribution we implement in the future will be able to, at minimum, generate sample."
      ],
      "metadata": {
        "id": "Mr3rTKLfdnkE"
      }
    },
    {
      "cell_type": "code",
      "source": [
        "class Die(Distribution):\n",
        "  def __init__(self, sides):\n",
        "    self.sides = sides\n",
        "\n",
        "  def sample(self):\n",
        "    return random.randint(1, self.sides)\n",
        "  \n",
        "  def __repr__(self):\n",
        "    return f\"Die(sides= {self.sides})\"\n",
        "\n",
        "  def _eq_(self, other):\n",
        "    if isinstance(other, Die):\n",
        "      return self.sides == other.sides\n",
        "    return False\n",
        "\n",
        "    \n",
        "six_sided = Die(6)\n",
        "six_sided.sample()"
      ],
      "metadata": {
        "colab": {
          "base_uri": "https://localhost:8080/"
        },
        "id": "PczWmzGLdrhN",
        "outputId": "efd4bd40-349b-4034-dd11-5ff1ef4c7b3c"
      },
      "execution_count": null,
      "outputs": [
        {
          "output_type": "execute_result",
          "data": {
            "text/plain": [
              "4"
            ]
          },
          "metadata": {},
          "execution_count": 18
        }
      ]
    },
    {
      "cell_type": "markdown",
      "source": [
        "In this example, **`Distribution`** is an abstract base class that declares the interface for `Die`. Any class that wants to implement `Distribution` must implement `sample`."
      ],
      "metadata": {
        "id": "-P-ZzEu4PhyW"
      }
    },
    {
      "cell_type": "markdown",
      "source": [
        "# Decorators\n",
        "**Decorators** in Python are a powerful and useful feature that allows you to modify or extend the behaviour of functions or methods without changing their code. **They are essentially higher-order functions that take a function as input and return a new function with added functionaility**.\n",
        "\n",
        "### Function as objects \n",
        "In Pythonm functions are first-class objects. This means that you can treat them like objects, such as integers, stringm or list. You can pass them as arguments to other functions, assign them to variables, and store them in data structures.\n",
        "\n",
        "### Higher-order functions \n",
        "A higher-order function is a function that takes one or more functions, and/or returns a function as its result. A decorator is a higher-order function that takes a function as input and returns a new function with added functionality. You can think of decorators as wrappers that modify the behaviour of the input function. \n",
        "\n",
        "### Using the @ syntax\n",
        "Python provides a more convenient way to apply decorators using the '@' symbol, follwed by decorator's name. This makes the code more readable and easier to understand. \n",
        "\n",
        "## Step-by-step: `*args` and `**kwargs`\n",
        "`*args` and `**kwargs` are special syntax in Python for passing a variable number of arguments to a function. They allow us to write more flexible functions that can accept any number of arguments\n",
        "\n",
        "### understanding `*args`:\n",
        "`*args` is used to pass variable number of non-keyword (positional) arguments to a function. It allows you to pass any number of positional arguments to the function, which will be recived as a tuple."
      ],
      "metadata": {
        "id": "udtqulZJQTdb"
      }
    },
    {
      "cell_type": "markdown",
      "source": [
        "### Dataclasses\n",
        "Python decorators are modifiers that can be applied to class, function and method definitions. A decorator is written above the definition that it applies to, starting with an @ symbol."
      ],
      "metadata": {
        "id": "H7rzl2CphvdS"
      }
    },
    {
      "cell_type": "code",
      "source": [
        "from dataclasses import dataclass\n",
        "\n",
        "@dataclass(frozen=True)\n",
        "class Die(Distribution):\n",
        "  sides: int\n",
        "  \n",
        "  def sample(self) -> int:\n",
        "    return random.randint(1, self.sides)"
      ],
      "metadata": {
        "id": "8aSA6n8Mh23D"
      },
      "execution_count": null,
      "outputs": []
    },
    {
      "cell_type": "markdown",
      "source": [
        "### Immutability\n",
        "An object we cannot change is called immutable. Instead of changing the object we cab return a fresh copy with the attribute changed; `dataclasses` providdes a `replace` function that makes this easy. Returning a fresh copy of data rather than modifying in place is a common pattern in Python Libraries. "
      ],
      "metadata": {
        "id": "y_3O4V88m8d0"
      }
    },
    {
      "cell_type": "code",
      "source": [
        "d = Die(6)\n",
        "d.sample()\n",
        "d.sides = 6"
      ],
      "metadata": {
        "colab": {
          "base_uri": "https://localhost:8080/",
          "height": 232
        },
        "id": "83UpUfuJoq4U",
        "outputId": "9d15a7a9-74e7-4f1b-f10a-35d4faeb71d9"
      },
      "execution_count": null,
      "outputs": [
        {
          "output_type": "error",
          "ename": "FrozenInstanceError",
          "evalue": "ignored",
          "traceback": [
            "\u001b[0;31m---------------------------------------------------------------------------\u001b[0m",
            "\u001b[0;31mFrozenInstanceError\u001b[0m                       Traceback (most recent call last)",
            "\u001b[0;32m<ipython-input-38-da49674b80dc>\u001b[0m in \u001b[0;36m<cell line: 3>\u001b[0;34m()\u001b[0m\n\u001b[1;32m      1\u001b[0m \u001b[0md\u001b[0m \u001b[0;34m=\u001b[0m \u001b[0mDie\u001b[0m\u001b[0;34m(\u001b[0m\u001b[0;36m6\u001b[0m\u001b[0;34m)\u001b[0m\u001b[0;34m\u001b[0m\u001b[0;34m\u001b[0m\u001b[0m\n\u001b[1;32m      2\u001b[0m \u001b[0md\u001b[0m\u001b[0;34m.\u001b[0m\u001b[0msample\u001b[0m\u001b[0;34m(\u001b[0m\u001b[0;34m)\u001b[0m\u001b[0;34m\u001b[0m\u001b[0;34m\u001b[0m\u001b[0m\n\u001b[0;32m----> 3\u001b[0;31m \u001b[0md\u001b[0m\u001b[0;34m.\u001b[0m\u001b[0msides\u001b[0m \u001b[0;34m=\u001b[0m \u001b[0;36m6\u001b[0m\u001b[0;34m\u001b[0m\u001b[0;34m\u001b[0m\u001b[0m\n\u001b[0m",
            "\u001b[0;32m<string>\u001b[0m in \u001b[0;36m__setattr__\u001b[0;34m(self, name, value)\u001b[0m\n",
            "\u001b[0;31mFrozenInstanceError\u001b[0m: cannot assign to field 'sides'"
          ]
        }
      ]
    },
    {
      "cell_type": "markdown",
      "source": [
        "Different kinds of distribution-- different implementations of the `Distribution` interface -- will return different types of samples. To deal with this we need **type variables**: variables that stand in for some type that can be different in different variables. These type variables are known as *generics* because they let us write classses that generically work for any type. To add annotations to the abstract `Distribution` class, we need to define a type variable for the outcomes of the distribution, then tell python that `Distribution` is \"generic\" in that type."
      ],
      "metadata": {
        "id": "Pn2TFo33sZUu"
      }
    },
    {
      "cell_type": "code",
      "source": [
        "from typing import Generic, TypeVar, Sequence\n",
        "\n",
        "# A type variable named \"A\"\n",
        "A = TypeVar(\"A\")\n",
        "\n",
        "# Distribution is \"generic in A\"\n",
        "class Distribution(ABC, Generic[A]):\n",
        "\n",
        "  # Sampling must produce a value of type A\n",
        "  @abstractmethod \n",
        "  def sample(self) -> A:\n",
        "    pass\n",
        "  \n",
        "  def sample_n(self, n:int) -> Sequence[A]:\n",
        "    return [self.sample() for _ in range(n)]"
      ],
      "metadata": {
        "id": "2U2g1OkSsqEu"
      },
      "execution_count": null,
      "outputs": []
    },
    {
      "cell_type": "markdown",
      "source": [
        "In this code, we have defined a type variable A and specified that `Distribution` uses `A` by interithing from `Generic[A]`. We can now write type annotations for distribution with specific types of outcomes: for example, `Die` would be an instance of `Distribution[int]` since the outcome of a die roll is always an `int`."
      ],
      "metadata": {
        "id": "T6XuoXe0wX2M"
      }
    },
    {
      "cell_type": "code",
      "source": [
        "import statistics\n",
        "\n",
        "@dataclass(frozen=True)\n",
        "class Die(Distribution[int]):\n",
        "  sides: int\n",
        "  \n",
        "  def sample(self) -> int:\n",
        "    return random.randint(1, self.sides)\n",
        "  \n",
        "  def exptected_value(d: Distribution[float], n:int = 100) -> float:\n",
        "    return statistics.mean(d.sample() for _ in range(n))\n"
      ],
      "metadata": {
        "id": "yHh-GpLowous"
      },
      "execution_count": null,
      "outputs": []
    },
    {
      "cell_type": "code",
      "source": [
        "def exptected_value(d: Distribution[float], n:int = 100) -> float:\n",
        "  return statistics.mean(d.sample() for _ in range(n))\n",
        "exptected_value(Die(6))"
      ],
      "metadata": {
        "colab": {
          "base_uri": "https://localhost:8080/"
        },
        "id": "egra67h5zWcd",
        "outputId": "daaec822-9f08-4c9a-e9c4-64db943718fe"
      },
      "execution_count": null,
      "outputs": [
        {
          "output_type": "execute_result",
          "data": {
            "text/plain": [
              "3.46"
            ]
          },
          "metadata": {},
          "execution_count": 55
        }
      ]
    },
    {
      "cell_type": "code",
      "source": [
        "from __future__ import annotations\n",
        "\n",
        "from  abc import ABC, abstractmethod\n",
        "from collections import Counter, defaultdict\n",
        "from dataclasses import dataclass\n",
        "import numpy as np\n",
        "import random\n",
        "from typing import (Callable, Dict, Generic, Iterator, Iterable,\n",
        "                    Mapping, Optional, Sequence, Tuple, TypeVar)"
      ],
      "metadata": {
        "id": "iFVM_7B1zlch"
      },
      "execution_count": null,
      "outputs": []
    },
    {
      "cell_type": "markdown",
      "source": [],
      "metadata": {
        "id": "dUpi_7F_vlJO"
      }
    },
    {
      "cell_type": "markdown",
      "source": [
        "Typing is a python module that provides runtime support for type hints. "
      ],
      "metadata": {
        "id": "voNQL1X9r-0k"
      }
    },
    {
      "cell_type": "markdown",
      "source": [
        "# Interfaces \n",
        "Why are interfaces useful?\n",
        "\n",
        "1. Promote a standard protocol: Interfaces can help you define a standard protocol that must be followed by all classes that implement the interface. This is useful when you want different classes to have the same methods, so they can be used interchangebly.\n",
        "\n",
        "2. Enfornce Contracts: With the `abc` module, Python can enforce that child classes implement particular methods from the parents class. This is ufeful in large codebases where you want ot ensure certian method are alwayas implement in subclasses."
      ],
      "metadata": {
        "id": "0l2KhU1PTp3A"
      }
    },
    {
      "cell_type": "markdown",
      "source": [
        "## First Class Functions\n"
      ],
      "metadata": {
        "id": "3MwBup4PZsdG"
      }
    },
    {
      "cell_type": "code",
      "source": [
        "for _ in range(10):\n",
        "  do_something()"
      ],
      "metadata": {
        "colab": {
          "base_uri": "https://localhost:8080/",
          "height": 181
        },
        "id": "yZXSveo-ZwCp",
        "outputId": "6b89a1bd-2f9a-4472-a99e-7db01fed18ca"
      },
      "execution_count": null,
      "outputs": [
        {
          "output_type": "error",
          "ename": "NameError",
          "evalue": "ignored",
          "traceback": [
            "\u001b[0;31m---------------------------------------------------------------------------\u001b[0m",
            "\u001b[0;31mNameError\u001b[0m                                 Traceback (most recent call last)",
            "\u001b[0;32m<ipython-input-1-ee495b365b3d>\u001b[0m in \u001b[0;36m<cell line: 1>\u001b[0;34m()\u001b[0m\n\u001b[1;32m      1\u001b[0m \u001b[0;32mfor\u001b[0m \u001b[0m_\u001b[0m \u001b[0;32min\u001b[0m \u001b[0mrange\u001b[0m\u001b[0;34m(\u001b[0m\u001b[0;36m10\u001b[0m\u001b[0;34m)\u001b[0m\u001b[0;34m:\u001b[0m\u001b[0;34m\u001b[0m\u001b[0;34m\u001b[0m\u001b[0m\n\u001b[0;32m----> 2\u001b[0;31m   \u001b[0mdo_something\u001b[0m\u001b[0;34m(\u001b[0m\u001b[0;34m)\u001b[0m\u001b[0;34m\u001b[0m\u001b[0;34m\u001b[0m\u001b[0m\n\u001b[0m",
            "\u001b[0;31mNameError\u001b[0m: name 'do_something' is not defined"
          ]
        }
      ]
    },
    {
      "cell_type": "markdown",
      "source": [
        "Instead of writing a loop each time, we could factor the logic into a function that takes in $n$ and `do_something` as arguments: "
      ],
      "metadata": {
        "id": "QSCGjNN0aGgC"
      }
    },
    {
      "cell_type": "code",
      "source": [
        "def repeat(action: Callable, n:int):\n",
        "  for _ in range(n):\n",
        "    action()\n",
        "\n",
        "repeat(do_something)"
      ],
      "metadata": {
        "colab": {
          "base_uri": "https://localhost:8080/",
          "height": 232
        },
        "id": "jq_rNf28aGMV",
        "outputId": "8667c9fd-bd91-401a-eadb-d6f4387331ed"
      },
      "execution_count": null,
      "outputs": [
        {
          "output_type": "error",
          "ename": "NameError",
          "evalue": "ignored",
          "traceback": [
            "\u001b[0;31m---------------------------------------------------------------------------\u001b[0m",
            "\u001b[0;31mNameError\u001b[0m                                 Traceback (most recent call last)",
            "\u001b[0;32m<ipython-input-2-5e2aa2213862>\u001b[0m in \u001b[0;36m<cell line: 1>\u001b[0;34m()\u001b[0m\n\u001b[0;32m----> 1\u001b[0;31m \u001b[0;32mdef\u001b[0m \u001b[0mrepeat\u001b[0m\u001b[0;34m(\u001b[0m\u001b[0maction\u001b[0m\u001b[0;34m:\u001b[0m \u001b[0mCallable\u001b[0m\u001b[0;34m,\u001b[0m \u001b[0mn\u001b[0m\u001b[0;34m:\u001b[0m\u001b[0mint\u001b[0m\u001b[0;34m)\u001b[0m\u001b[0;34m:\u001b[0m\u001b[0;34m\u001b[0m\u001b[0;34m\u001b[0m\u001b[0m\n\u001b[0m\u001b[1;32m      2\u001b[0m   \u001b[0;32mfor\u001b[0m \u001b[0m_\u001b[0m \u001b[0;32min\u001b[0m \u001b[0mrange\u001b[0m\u001b[0;34m(\u001b[0m\u001b[0mn\u001b[0m\u001b[0;34m)\u001b[0m\u001b[0;34m:\u001b[0m\u001b[0;34m\u001b[0m\u001b[0;34m\u001b[0m\u001b[0m\n\u001b[1;32m      3\u001b[0m     \u001b[0maction\u001b[0m\u001b[0;34m(\u001b[0m\u001b[0;34m)\u001b[0m\u001b[0;34m\u001b[0m\u001b[0;34m\u001b[0m\u001b[0m\n\u001b[1;32m      4\u001b[0m \u001b[0;34m\u001b[0m\u001b[0m\n\u001b[1;32m      5\u001b[0m \u001b[0mrepeat\u001b[0m\u001b[0;34m(\u001b[0m\u001b[0mdo_something\u001b[0m\u001b[0;34m)\u001b[0m\u001b[0;34m\u001b[0m\u001b[0;34m\u001b[0m\u001b[0m\n",
            "\u001b[0;31mNameError\u001b[0m: name 'Callable' is not defined"
          ]
        }
      ]
    },
    {
      "cell_type": "code",
      "source": [
        "def expected_value(d: Distribution[float], n: float) -> float:\n",
        "  return statistics.mean(d.sample() for _ in range(n))"
      ],
      "metadata": {
        "colab": {
          "base_uri": "https://localhost:8080/",
          "height": 181
        },
        "id": "t0p87RgFbILO",
        "outputId": "5855b6c4-c0f1-4329-ae60-c43b5aace2b6"
      },
      "execution_count": null,
      "outputs": [
        {
          "output_type": "error",
          "ename": "NameError",
          "evalue": "ignored",
          "traceback": [
            "\u001b[0;31m---------------------------------------------------------------------------\u001b[0m",
            "\u001b[0;31mNameError\u001b[0m                                 Traceback (most recent call last)",
            "\u001b[0;32m<ipython-input-3-4e3df458d86c>\u001b[0m in \u001b[0;36m<cell line: 1>\u001b[0;34m()\u001b[0m\n\u001b[0;32m----> 1\u001b[0;31m \u001b[0;32mdef\u001b[0m \u001b[0mexpected_value\u001b[0m\u001b[0;34m(\u001b[0m\u001b[0md\u001b[0m\u001b[0;34m:\u001b[0m \u001b[0mDistribution\u001b[0m\u001b[0;34m[\u001b[0m\u001b[0mfloat\u001b[0m\u001b[0;34m]\u001b[0m\u001b[0;34m,\u001b[0m \u001b[0mn\u001b[0m\u001b[0;34m:\u001b[0m \u001b[0mfloat\u001b[0m\u001b[0;34m)\u001b[0m \u001b[0;34m->\u001b[0m \u001b[0mfloat\u001b[0m\u001b[0;34m:\u001b[0m\u001b[0;34m\u001b[0m\u001b[0;34m\u001b[0m\u001b[0m\n\u001b[0m\u001b[1;32m      2\u001b[0m   \u001b[0;32mreturn\u001b[0m \u001b[0mstatistics\u001b[0m\u001b[0;34m.\u001b[0m\u001b[0mmean\u001b[0m\u001b[0;34m(\u001b[0m\u001b[0md\u001b[0m\u001b[0;34m.\u001b[0m\u001b[0msample\u001b[0m\u001b[0;34m(\u001b[0m\u001b[0;34m)\u001b[0m \u001b[0;32mfor\u001b[0m \u001b[0m_\u001b[0m \u001b[0;32min\u001b[0m \u001b[0mrange\u001b[0m\u001b[0;34m(\u001b[0m\u001b[0mn\u001b[0m\u001b[0;34m)\u001b[0m\u001b[0;34m)\u001b[0m\u001b[0;34m\u001b[0m\u001b[0;34m\u001b[0m\u001b[0m\n",
            "\u001b[0;31mNameError\u001b[0m: name 'Distribution' is not defined"
          ]
        }
      ]
    },
    {
      "cell_type": "code",
      "source": [
        "def expected_value(\n",
        "    d: Distribution[A],\n",
        "    f: Callable[[A], float],\n",
        "    n: int\n",
        ") -> float:\n",
        "  return statistics.mean(f(d.sample()) for _ in range(n))"
      ],
      "metadata": {
        "colab": {
          "base_uri": "https://localhost:8080/",
          "height": 232
        },
        "id": "HW88lUH7bvoN",
        "outputId": "c7cfb7c2-c18b-4618-83f6-984186d8f461"
      },
      "execution_count": null,
      "outputs": [
        {
          "output_type": "error",
          "ename": "NameError",
          "evalue": "ignored",
          "traceback": [
            "\u001b[0;31m---------------------------------------------------------------------------\u001b[0m",
            "\u001b[0;31mNameError\u001b[0m                                 Traceback (most recent call last)",
            "\u001b[0;32m<ipython-input-4-614f0a532ffd>\u001b[0m in \u001b[0;36m<cell line: 1>\u001b[0;34m()\u001b[0m\n\u001b[1;32m      1\u001b[0m def expected_value(\n\u001b[0;32m----> 2\u001b[0;31m     \u001b[0md\u001b[0m\u001b[0;34m:\u001b[0m \u001b[0mDistribution\u001b[0m\u001b[0;34m[\u001b[0m\u001b[0mA\u001b[0m\u001b[0;34m]\u001b[0m\u001b[0;34m,\u001b[0m\u001b[0;34m\u001b[0m\u001b[0;34m\u001b[0m\u001b[0m\n\u001b[0m\u001b[1;32m      3\u001b[0m     \u001b[0mf\u001b[0m\u001b[0;34m:\u001b[0m \u001b[0mCallable\u001b[0m\u001b[0;34m[\u001b[0m\u001b[0;34m[\u001b[0m\u001b[0mA\u001b[0m\u001b[0;34m]\u001b[0m\u001b[0;34m,\u001b[0m \u001b[0mfloat\u001b[0m\u001b[0;34m]\u001b[0m\u001b[0;34m,\u001b[0m\u001b[0;34m\u001b[0m\u001b[0;34m\u001b[0m\u001b[0m\n\u001b[1;32m      4\u001b[0m     \u001b[0mn\u001b[0m\u001b[0;34m:\u001b[0m \u001b[0mint\u001b[0m\u001b[0;34m\u001b[0m\u001b[0;34m\u001b[0m\u001b[0m\n\u001b[1;32m      5\u001b[0m ) -> float:\n",
            "\u001b[0;31mNameError\u001b[0m: name 'Distribution' is not defined"
          ]
        }
      ]
    },
    {
      "cell_type": "markdown",
      "source": [],
      "metadata": {
        "id": "dtD-e7rTaBaF"
      }
    },
    {
      "cell_type": "markdown",
      "source": [
        "## Iterative Algorithms\n",
        "\n",
        "One common scenario in Reinforcement learning -- and other areas in numerical programming is algorithms that *iteratively converge* to the correct result. We can run the algorithm repeatedly to get more and more accurate results, but the improvments with each iteration get progressively smaller. For example we can approximate the square root of $a$ by starting with some inital guess $x_0$ and repeatedly calculating $x_{n+1}$"
      ],
      "metadata": {
        "id": "3p7F3ePKcXU8"
      }
    },
    {
      "cell_type": "code",
      "source": [
        "def sqrt(a: float, threshold: float) -> float:\n",
        "  x = a / 2 # initial guess\n",
        "  x_n = a \n",
        "  while abs(x_n - x) > threshold:\n",
        "    x_n = x\n",
        "    x = (x + (a / x)) / 2\n",
        "    print(x)\n",
        "  return x_n "
      ],
      "metadata": {
        "id": "m2GkTB5vcZif"
      },
      "execution_count": null,
      "outputs": []
    },
    {
      "cell_type": "code",
      "source": [
        "sqrt(100, 0.001)"
      ],
      "metadata": {
        "colab": {
          "base_uri": "https://localhost:8080/"
        },
        "id": "o8H8qmwRfBjf",
        "outputId": "5e58e4c2-386e-45aa-ef2f-693ad6110fba"
      },
      "execution_count": null,
      "outputs": [
        {
          "output_type": "stream",
          "name": "stdout",
          "text": [
            "26.0\n",
            "14.923076923076923\n",
            "10.812053925455988\n",
            "10.030495203889796\n",
            "10.000046356507898\n",
            "10.000000000107445\n"
          ]
        },
        {
          "output_type": "execute_result",
          "data": {
            "text/plain": [
              "10.000046356507898"
            ]
          },
          "metadata": {},
          "execution_count": 22
        }
      ]
    },
    {
      "cell_type": "code",
      "source": [
        "def sqrt(a: float, threshold: float) -> float:\n",
        "    x = a / 2  # initial guess\n",
        "    x_n = a\n",
        "    while abs(x_n - x) > threshold:\n",
        "        x_n = x\n",
        "        x = (x + (a / x)) / 2\n",
        "        print(x, x_n)\n",
        "    return x_n"
      ],
      "metadata": {
        "id": "iQ09SQn_fOnb"
      },
      "execution_count": null,
      "outputs": []
    },
    {
      "cell_type": "code",
      "source": [],
      "metadata": {
        "id": "wsMqw7TtgZNN"
      },
      "execution_count": null,
      "outputs": []
    }
  ]
}
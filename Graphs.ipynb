{
  "nbformat": 4,
  "nbformat_minor": 0,
  "metadata": {
    "colab": {
      "provenance": [],
      "authorship_tag": "ABX9TyOiclpj7vSLq51dwkoaPKi7",
      "include_colab_link": true
    },
    "kernelspec": {
      "name": "python3",
      "display_name": "Python 3"
    },
    "language_info": {
      "name": "python"
    }
  },
  "cells": [
    {
      "cell_type": "markdown",
      "metadata": {
        "id": "view-in-github",
        "colab_type": "text"
      },
      "source": [
        "<a href=\"https://colab.research.google.com/github/hananather/DCP/blob/main/Graphs.ipynb\" target=\"_parent\"><img src=\"https://colab.research.google.com/assets/colab-badge.svg\" alt=\"Open In Colab\"/></a>"
      ]
    },
    {
      "cell_type": "code",
      "execution_count": 18,
      "metadata": {
        "colab": {
          "base_uri": "https://localhost:8080/"
        },
        "id": "7EAA2s_XgEN6",
        "outputId": "249b0bde-2f13-48af-e61b-0f571679d0b6"
      },
      "outputs": [
        {
          "output_type": "stream",
          "name": "stdout",
          "text": [
            "Following is Depth First Traversal (starting from vertex 2)\n",
            "2 0 1 3 "
          ]
        }
      ],
      "source": [
        "\n",
        "\n",
        "# Python3 program to print DFS traversal\n",
        "# from a given  graph\n",
        "from collections import defaultdict\n",
        "\n",
        "\n",
        "# This class represents a directed graph using\n",
        "# adjacency list representation\n",
        "class Graph:\n",
        "\n",
        "    # Constructor\n",
        "    def __init__(self):\n",
        "        super(Graph, self).__init__()\n",
        "        # Default dictionary to store graph\n",
        "        self.graph = defaultdict(list)\n",
        "\n",
        "\n",
        "    # Function to add an edge to graph\n",
        "    def addEdge(self, u, v):\n",
        "        self.graph[u].append(v)\n",
        "\n",
        "\n",
        "    # A function used by DFS\n",
        "    def DFSUtil(self, v, visited):\n",
        "\n",
        "        # Mark the current node as visited\n",
        "        # and print it\n",
        "        visited.add(v)\n",
        "        print(v, end=' ')\n",
        "\n",
        "        # Recur for all the vertices\n",
        "        # adjacent to this vertex\n",
        "        for neighbour in self.graph[v]:\n",
        "            if neighbour not in visited:\n",
        "                self.DFSUtil(neighbour, visited)\n",
        "\n",
        "\n",
        "    # The function to do DFS traversal. It uses\n",
        "    # recursive DFSUtil()\n",
        "    def DFS(self, v):\n",
        "\n",
        "        # Create a set to store visited vertices\n",
        "        visited = set()\n",
        "\n",
        "        # Call the recursive helper function\n",
        "        # to print DFS traversal\n",
        "        self.DFSUtil(v, visited)\n",
        "\n",
        "\n",
        "# Driver's code\n",
        "if __name__ == \"__main__\":\n",
        "    g = Graph()\n",
        "    g.addEdge(0, 1)\n",
        "    g.addEdge(0, 2)\n",
        "    g.addEdge(1, 2)\n",
        "    g.addEdge(2, 0)\n",
        "    g.addEdge(2, 3)\n",
        "    g.addEdge(3, 3)\n",
        "\n",
        "    print(\"Following is Depth First Traversal (starting from vertex 2)\")\n",
        "\n",
        "    # Function call\n",
        "    g.DFS(2)\n",
        ""
      ]
    },
    {
      "cell_type": "code",
      "source": [
        "g"
      ],
      "metadata": {
        "colab": {
          "base_uri": "https://localhost:8080/"
        },
        "id": "MIXb52eFgE10",
        "outputId": "ec3818d4-83d3-4508-e526-087b51ed52a6"
      },
      "execution_count": 19,
      "outputs": [
        {
          "output_type": "execute_result",
          "data": {
            "text/plain": [
              "<__main__.Graph at 0x7a2b038cace0>"
            ]
          },
          "metadata": {},
          "execution_count": 19
        }
      ]
    },
    {
      "cell_type": "code",
      "source": [
        "g.items()"
      ],
      "metadata": {
        "colab": {
          "base_uri": "https://localhost:8080/",
          "height": 139
        },
        "id": "3_Ml64tGkt0U",
        "outputId": "25a9721f-4fe5-4b2b-a63f-ffa2eb97e8f8"
      },
      "execution_count": 24,
      "outputs": [
        {
          "output_type": "error",
          "ename": "AttributeError",
          "evalue": "'Graph' object has no attribute 'items'",
          "traceback": [
            "\u001b[0;31m---------------------------------------------------------------------------\u001b[0m",
            "\u001b[0;31mAttributeError\u001b[0m                            Traceback (most recent call last)",
            "\u001b[0;32m<ipython-input-24-3707d1a515ad>\u001b[0m in \u001b[0;36m<cell line: 1>\u001b[0;34m()\u001b[0m\n\u001b[0;32m----> 1\u001b[0;31m \u001b[0mg\u001b[0m\u001b[0;34m.\u001b[0m\u001b[0mitems\u001b[0m\u001b[0;34m(\u001b[0m\u001b[0;34m)\u001b[0m\u001b[0;34m\u001b[0m\u001b[0;34m\u001b[0m\u001b[0m\n\u001b[0m",
            "\u001b[0;31mAttributeError\u001b[0m: 'Graph' object has no attribute 'items'"
          ]
        }
      ]
    },
    {
      "cell_type": "code",
      "source": [
        "}for vertex, edges in g.items():\n",
        "            print(f\"{vertex} -> {edges}\")"
      ],
      "metadata": {
        "colab": {
          "base_uri": "https://localhost:8080/",
          "height": 156
        },
        "id": "-fjJEnaLkp9t",
        "outputId": "3afb1222-c7e4-4027-940d-3d36cc7651cb"
      },
      "execution_count": 20,
      "outputs": [
        {
          "output_type": "error",
          "ename": "AttributeError",
          "evalue": "'Graph' object has no attribute 'items'",
          "traceback": [
            "\u001b[0;31m---------------------------------------------------------------------------\u001b[0m",
            "\u001b[0;31mAttributeError\u001b[0m                            Traceback (most recent call last)",
            "\u001b[0;32m<ipython-input-20-deb30ee0328c>\u001b[0m in \u001b[0;36m<cell line: 1>\u001b[0;34m()\u001b[0m\n\u001b[0;32m----> 1\u001b[0;31m \u001b[0;32mfor\u001b[0m \u001b[0mvertex\u001b[0m\u001b[0;34m,\u001b[0m \u001b[0medges\u001b[0m \u001b[0;32min\u001b[0m \u001b[0mg\u001b[0m\u001b[0;34m.\u001b[0m\u001b[0mitems\u001b[0m\u001b[0;34m(\u001b[0m\u001b[0;34m)\u001b[0m\u001b[0;34m:\u001b[0m\u001b[0;34m\u001b[0m\u001b[0;34m\u001b[0m\u001b[0m\n\u001b[0m\u001b[1;32m      2\u001b[0m             \u001b[0mprint\u001b[0m\u001b[0;34m(\u001b[0m\u001b[0;34mf\"{vertex} -> {edges}\"\u001b[0m\u001b[0;34m)\u001b[0m\u001b[0;34m\u001b[0m\u001b[0;34m\u001b[0m\u001b[0m\n",
            "\u001b[0;31mAttributeError\u001b[0m: 'Graph' object has no attribute 'items'"
          ]
        }
      ]
    },
    {
      "cell_type": "markdown",
      "source": [
        "from collections import def"
      ],
      "metadata": {
        "id": "j1UPmegbg9jE"
      }
    },
    {
      "cell_type": "code",
      "source": [
        "from collections import defaultdict"
      ],
      "metadata": {
        "id": "__bT7xvMgIyh"
      },
      "execution_count": 4,
      "outputs": []
    },
    {
      "cell_type": "code",
      "source": [
        "a = defaultdict(list)"
      ],
      "metadata": {
        "id": "grieuqfRhDbQ"
      },
      "execution_count": 5,
      "outputs": []
    },
    {
      "cell_type": "code",
      "source": [
        "u = 0\n",
        "v = 1\n",
        "a[u].append(v)"
      ],
      "metadata": {
        "id": "X8ULxj20hJ7c"
      },
      "execution_count": 8,
      "outputs": []
    },
    {
      "cell_type": "code",
      "source": [
        "a"
      ],
      "metadata": {
        "colab": {
          "base_uri": "https://localhost:8080/"
        },
        "id": "Ryzsci4uhKbP",
        "outputId": "a7cf76bb-fbd3-4d8c-f620-c6159379148c"
      },
      "execution_count": 9,
      "outputs": [
        {
          "output_type": "execute_result",
          "data": {
            "text/plain": [
              "defaultdict(list, {0: [1]})"
            ]
          },
          "metadata": {},
          "execution_count": 9
        }
      ]
    },
    {
      "cell_type": "code",
      "source": [
        "u = 0\n",
        "v = 2\n",
        "a[u].append(v)\n",
        "a"
      ],
      "metadata": {
        "colab": {
          "base_uri": "https://localhost:8080/"
        },
        "id": "hZXQtY6YhX3q",
        "outputId": "67c7c8ac-da27-4701-c87e-9ca4baa514a8"
      },
      "execution_count": 10,
      "outputs": [
        {
          "output_type": "execute_result",
          "data": {
            "text/plain": [
              "defaultdict(list, {0: [1, 2]})"
            ]
          },
          "metadata": {},
          "execution_count": 10
        }
      ]
    },
    {
      "cell_type": "code",
      "source": [
        "a[0]"
      ],
      "metadata": {
        "colab": {
          "base_uri": "https://localhost:8080/"
        },
        "id": "Zz6SJIUbhgYK",
        "outputId": "cab4bb32-05c2-46e6-a135-4a1932103452"
      },
      "execution_count": 12,
      "outputs": [
        {
          "output_type": "execute_result",
          "data": {
            "text/plain": [
              "[1, 2]"
            ]
          },
          "metadata": {},
          "execution_count": 12
        }
      ]
    },
    {
      "cell_type": "code",
      "source": [
        "from collections import defaultdict\n",
        "\n",
        "class Graph:\n",
        "\n",
        "\tdef __init__(self):\n",
        "\t\tself.graph = defaultdict(list)\n",
        "\n",
        "\tdef add_Edge(self, u, v):\n",
        "\t\tself.graph[u].append(v)"
      ],
      "metadata": {
        "id": "y047Zk-FiJwf"
      },
      "execution_count": 15,
      "outputs": []
    },
    {
      "cell_type": "code",
      "source": [
        "g = Graph()\n",
        "g"
      ],
      "metadata": {
        "colab": {
          "base_uri": "https://localhost:8080/"
        },
        "id": "2bdJJFuskTjL",
        "outputId": "8042d726-5176-47e8-88a9-a7f4eab47092"
      },
      "execution_count": 17,
      "outputs": [
        {
          "output_type": "execute_result",
          "data": {
            "text/plain": [
              "<__main__.Graph at 0x7a2b038cbc40>"
            ]
          },
          "metadata": {},
          "execution_count": 17
        }
      ]
    },
    {
      "cell_type": "code",
      "source": [
        "from collections import defaultdict\n",
        "\n",
        "class Graph:\n",
        "    \"\"\"Class representing a directed graph using an adjacency list.\"\"\"\n",
        "\n",
        "    def __init__(self):\n",
        "        \"\"\"Initialize an empty dictionary to store the graph's adjacency list.\"\"\"\n",
        "        self.graph = defaultdict(list)\n",
        "\n",
        "    def add_edge(self, u, v):\n",
        "        \"\"\"Add an edge from vertex u to vertex v.\n",
        "\n",
        "        Args:\n",
        "        u (int): The start vertex of the edge.\n",
        "        v (int): The end vertex of the edge.\n",
        "        \"\"\"\n",
        "        self.graph[u].append(v)\n",
        "\n",
        "    def dfs_util(self, v, visited):\n",
        "        \"\"\"Utility function for performing DFS from a given vertex.\n",
        "\n",
        "        Args:\n",
        "        v (int): The vertex to start DFS.\n",
        "        visited (set): A set of already visited vertices.\n",
        "        \"\"\"\n",
        "        # Mark the current node as visited and print it\n",
        "        visited.add(v)\n",
        "        print(v, end=' ')\n",
        "\n",
        "        # Recur for all the vertices adjacent to this vertex\n",
        "        for neighbour in self.graph[v]:\n",
        "            if neighbour not in visited:\n",
        "                self.dfs_util(neighbour, visited)\n",
        "\n",
        "    def dfs(self, start_vertex):\n",
        "        \"\"\"Perform DFS traversal starting from a given vertex.\n",
        "\n",
        "        Args:\n",
        "        start_vertex (int): The starting vertex for DFS.\n",
        "        \"\"\"\n",
        "        visited = set()  # A set to store visited vertices\n",
        "        self.dfs_util(start_vertex, visited)  # Start the DFS from the given vertex\n",
        "\n",
        "    def print_graph(self):\n",
        "        \"\"\"Prints the graph's adjacency list.\"\"\"\n",
        "        for vertex, edges in self.graph.items():\n",
        "            print(f\"{vertex} -> {edges}\")\n",
        "\n",
        "# Example usage\n",
        "if __name__ == \"__main__\":\n",
        "    # Create a graph instance\n",
        "    g = Graph()\n",
        "    # Adding edges to the graph\n",
        "    g.add_edge(0, 1)\n",
        "    g.add_edge(0, 2)\n",
        "    g.add_edge(1, 2)\n",
        "    g.add_edge(2, 0)\n",
        "    g.add_edge(2, 3)\n",
        "    g.add_edge(3, 3)\n",
        "\n",
        "    # Display the graph\n",
        "    print(\"Graph's adjacency list:\")\n",
        "    g.print_graph()\n",
        "\n",
        "    # Start DFS from vertex 2\n",
        "    print(\"\\nFollowing is Depth First Traversal (starting from vertex 2):\")\n",
        "    g.dfs(2)\n"
      ],
      "metadata": {
        "colab": {
          "base_uri": "https://localhost:8080/"
        },
        "id": "IeTnygrDkV8J",
        "outputId": "d0512dfb-6818-47ec-f1a9-182c2a21c433"
      },
      "execution_count": 23,
      "outputs": [
        {
          "output_type": "stream",
          "name": "stdout",
          "text": [
            "Graph's adjacency list:\n",
            "0 -> [1, 2]\n",
            "1 -> [2]\n",
            "2 -> [0, 3]\n",
            "3 -> [3]\n",
            "\n",
            "Following is Depth First Traversal (starting from vertex 2):\n",
            "2 0 1 3 "
          ]
        }
      ]
    },
    {
      "cell_type": "code",
      "source": [],
      "metadata": {
        "id": "ORn90yO5k5wj"
      },
      "execution_count": null,
      "outputs": []
    }
  ]
}